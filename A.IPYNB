{
 "cells": [
  {
   "cell_type": "code",
   "execution_count": 21,
   "metadata": {},
   "outputs": [],
   "source": [
    "import numpy as np\n",
    "import pandas as pd\n",
    "import matplotlib.pyplot as plt\n",
    "import seaborn as sns"
   ]
  },
  {
   "cell_type": "code",
   "execution_count": 22,
   "metadata": {},
   "outputs": [],
   "source": [
    "df=pd.read_csv('AMES_Final_DF.csv')"
   ]
  },
  {
   "cell_type": "code",
   "execution_count": 23,
   "metadata": {},
   "outputs": [
    {
     "data": {
      "text/html": [
       "<div>\n",
       "<style scoped>\n",
       "    .dataframe tbody tr th:only-of-type {\n",
       "        vertical-align: middle;\n",
       "    }\n",
       "\n",
       "    .dataframe tbody tr th {\n",
       "        vertical-align: top;\n",
       "    }\n",
       "\n",
       "    .dataframe thead th {\n",
       "        text-align: right;\n",
       "    }\n",
       "</style>\n",
       "<table border=\"1\" class=\"dataframe\">\n",
       "  <thead>\n",
       "    <tr style=\"text-align: right;\">\n",
       "      <th></th>\n",
       "      <th>Lot Frontage</th>\n",
       "      <th>Lot Area</th>\n",
       "      <th>Overall Qual</th>\n",
       "      <th>Overall Cond</th>\n",
       "      <th>Year Built</th>\n",
       "      <th>Year Remod/Add</th>\n",
       "      <th>Mas Vnr Area</th>\n",
       "      <th>BsmtFin SF 1</th>\n",
       "      <th>BsmtFin SF 2</th>\n",
       "      <th>Bsmt Unf SF</th>\n",
       "      <th>...</th>\n",
       "      <th>Sale Type_ConLw</th>\n",
       "      <th>Sale Type_New</th>\n",
       "      <th>Sale Type_Oth</th>\n",
       "      <th>Sale Type_VWD</th>\n",
       "      <th>Sale Type_WD</th>\n",
       "      <th>Sale Condition_AdjLand</th>\n",
       "      <th>Sale Condition_Alloca</th>\n",
       "      <th>Sale Condition_Family</th>\n",
       "      <th>Sale Condition_Normal</th>\n",
       "      <th>Sale Condition_Partial</th>\n",
       "    </tr>\n",
       "  </thead>\n",
       "  <tbody>\n",
       "    <tr>\n",
       "      <th>0</th>\n",
       "      <td>141.0</td>\n",
       "      <td>31770</td>\n",
       "      <td>6</td>\n",
       "      <td>5</td>\n",
       "      <td>1960</td>\n",
       "      <td>1960</td>\n",
       "      <td>112.0</td>\n",
       "      <td>639.0</td>\n",
       "      <td>0.0</td>\n",
       "      <td>441.0</td>\n",
       "      <td>...</td>\n",
       "      <td>0</td>\n",
       "      <td>0</td>\n",
       "      <td>0</td>\n",
       "      <td>0</td>\n",
       "      <td>1</td>\n",
       "      <td>0</td>\n",
       "      <td>0</td>\n",
       "      <td>0</td>\n",
       "      <td>1</td>\n",
       "      <td>0</td>\n",
       "    </tr>\n",
       "    <tr>\n",
       "      <th>1</th>\n",
       "      <td>80.0</td>\n",
       "      <td>11622</td>\n",
       "      <td>5</td>\n",
       "      <td>6</td>\n",
       "      <td>1961</td>\n",
       "      <td>1961</td>\n",
       "      <td>0.0</td>\n",
       "      <td>468.0</td>\n",
       "      <td>144.0</td>\n",
       "      <td>270.0</td>\n",
       "      <td>...</td>\n",
       "      <td>0</td>\n",
       "      <td>0</td>\n",
       "      <td>0</td>\n",
       "      <td>0</td>\n",
       "      <td>1</td>\n",
       "      <td>0</td>\n",
       "      <td>0</td>\n",
       "      <td>0</td>\n",
       "      <td>1</td>\n",
       "      <td>0</td>\n",
       "    </tr>\n",
       "    <tr>\n",
       "      <th>2</th>\n",
       "      <td>81.0</td>\n",
       "      <td>14267</td>\n",
       "      <td>6</td>\n",
       "      <td>6</td>\n",
       "      <td>1958</td>\n",
       "      <td>1958</td>\n",
       "      <td>108.0</td>\n",
       "      <td>923.0</td>\n",
       "      <td>0.0</td>\n",
       "      <td>406.0</td>\n",
       "      <td>...</td>\n",
       "      <td>0</td>\n",
       "      <td>0</td>\n",
       "      <td>0</td>\n",
       "      <td>0</td>\n",
       "      <td>1</td>\n",
       "      <td>0</td>\n",
       "      <td>0</td>\n",
       "      <td>0</td>\n",
       "      <td>1</td>\n",
       "      <td>0</td>\n",
       "    </tr>\n",
       "    <tr>\n",
       "      <th>3</th>\n",
       "      <td>93.0</td>\n",
       "      <td>11160</td>\n",
       "      <td>7</td>\n",
       "      <td>5</td>\n",
       "      <td>1968</td>\n",
       "      <td>1968</td>\n",
       "      <td>0.0</td>\n",
       "      <td>1065.0</td>\n",
       "      <td>0.0</td>\n",
       "      <td>1045.0</td>\n",
       "      <td>...</td>\n",
       "      <td>0</td>\n",
       "      <td>0</td>\n",
       "      <td>0</td>\n",
       "      <td>0</td>\n",
       "      <td>1</td>\n",
       "      <td>0</td>\n",
       "      <td>0</td>\n",
       "      <td>0</td>\n",
       "      <td>1</td>\n",
       "      <td>0</td>\n",
       "    </tr>\n",
       "    <tr>\n",
       "      <th>4</th>\n",
       "      <td>74.0</td>\n",
       "      <td>13830</td>\n",
       "      <td>5</td>\n",
       "      <td>5</td>\n",
       "      <td>1997</td>\n",
       "      <td>1998</td>\n",
       "      <td>0.0</td>\n",
       "      <td>791.0</td>\n",
       "      <td>0.0</td>\n",
       "      <td>137.0</td>\n",
       "      <td>...</td>\n",
       "      <td>0</td>\n",
       "      <td>0</td>\n",
       "      <td>0</td>\n",
       "      <td>0</td>\n",
       "      <td>1</td>\n",
       "      <td>0</td>\n",
       "      <td>0</td>\n",
       "      <td>0</td>\n",
       "      <td>1</td>\n",
       "      <td>0</td>\n",
       "    </tr>\n",
       "  </tbody>\n",
       "</table>\n",
       "<p>5 rows × 274 columns</p>\n",
       "</div>"
      ],
      "text/plain": [
       "   Lot Frontage  Lot Area  Overall Qual  Overall Cond  Year Built  \\\n",
       "0         141.0     31770             6             5        1960   \n",
       "1          80.0     11622             5             6        1961   \n",
       "2          81.0     14267             6             6        1958   \n",
       "3          93.0     11160             7             5        1968   \n",
       "4          74.0     13830             5             5        1997   \n",
       "\n",
       "   Year Remod/Add  Mas Vnr Area  BsmtFin SF 1  BsmtFin SF 2  Bsmt Unf SF  ...  \\\n",
       "0            1960         112.0         639.0           0.0        441.0  ...   \n",
       "1            1961           0.0         468.0         144.0        270.0  ...   \n",
       "2            1958         108.0         923.0           0.0        406.0  ...   \n",
       "3            1968           0.0        1065.0           0.0       1045.0  ...   \n",
       "4            1998           0.0         791.0           0.0        137.0  ...   \n",
       "\n",
       "   Sale Type_ConLw  Sale Type_New  Sale Type_Oth  Sale Type_VWD  \\\n",
       "0                0              0              0              0   \n",
       "1                0              0              0              0   \n",
       "2                0              0              0              0   \n",
       "3                0              0              0              0   \n",
       "4                0              0              0              0   \n",
       "\n",
       "   Sale Type_WD   Sale Condition_AdjLand  Sale Condition_Alloca  \\\n",
       "0              1                       0                      0   \n",
       "1              1                       0                      0   \n",
       "2              1                       0                      0   \n",
       "3              1                       0                      0   \n",
       "4              1                       0                      0   \n",
       "\n",
       "   Sale Condition_Family  Sale Condition_Normal  Sale Condition_Partial  \n",
       "0                      0                      1                       0  \n",
       "1                      0                      1                       0  \n",
       "2                      0                      1                       0  \n",
       "3                      0                      1                       0  \n",
       "4                      0                      1                       0  \n",
       "\n",
       "[5 rows x 274 columns]"
      ]
     },
     "execution_count": 23,
     "metadata": {},
     "output_type": "execute_result"
    }
   ],
   "source": [
    "df.head()"
   ]
  },
  {
   "cell_type": "code",
   "execution_count": 24,
   "metadata": {},
   "outputs": [
    {
     "data": {
      "text/plain": [
       "Index(['Lot Frontage', 'Lot Area', 'Overall Qual', 'Overall Cond',\n",
       "       'Year Built', 'Year Remod/Add', 'Mas Vnr Area', 'BsmtFin SF 1',\n",
       "       'BsmtFin SF 2', 'Bsmt Unf SF',\n",
       "       ...\n",
       "       'Sale Type_ConLw', 'Sale Type_New', 'Sale Type_Oth', 'Sale Type_VWD',\n",
       "       'Sale Type_WD ', 'Sale Condition_AdjLand', 'Sale Condition_Alloca',\n",
       "       'Sale Condition_Family', 'Sale Condition_Normal',\n",
       "       'Sale Condition_Partial'],\n",
       "      dtype='object', length=274)"
      ]
     },
     "execution_count": 24,
     "metadata": {},
     "output_type": "execute_result"
    }
   ],
   "source": [
    "df.columns"
   ]
  },
  {
   "cell_type": "code",
   "execution_count": 25,
   "metadata": {},
   "outputs": [
    {
     "data": {
      "text/plain": [
       "Exter Qual_TA       -0.591459\n",
       "Kitchen Qual_TA     -0.527461\n",
       "Fireplace Qu_None   -0.481740\n",
       "Bsmt Qual_TA        -0.453022\n",
       "Garage Finish_Unf   -0.422363\n",
       "                       ...   \n",
       "Garage Cars          0.648488\n",
       "Total Bsmt SF        0.660983\n",
       "Gr Liv Area          0.727279\n",
       "Overall Qual         0.802637\n",
       "SalePrice            1.000000\n",
       "Name: SalePrice, Length: 274, dtype: float64"
      ]
     },
     "execution_count": 25,
     "metadata": {},
     "output_type": "execute_result"
    }
   ],
   "source": [
    "df.corr()['SalePrice'].sort_values()"
   ]
  },
  {
   "cell_type": "code",
   "execution_count": 26,
   "metadata": {},
   "outputs": [],
   "source": [
    "x=df.drop('SalePrice',axis=1)\n",
    "y=df['SalePrice']"
   ]
  },
  {
   "cell_type": "code",
   "execution_count": 27,
   "metadata": {},
   "outputs": [],
   "source": [
    "from sklearn.model_selection import train_test_split\n",
    "from sklearn.preprocessing import StandardScaler\n",
    "x_train,x_test,y_train,y_test=train_test_split(x,y,test_size=0.3,random_state=42)\n",
    "sc=StandardScaler()\n",
    "x_train=sc.fit_transform(x_train)\n",
    "x_test=sc.transform(x_test)"
   ]
  },
  {
   "cell_type": "code",
   "execution_count": 28,
   "metadata": {},
   "outputs": [],
   "source": [
    "from sklearn.linear_model import LinearRegression\n",
    "l_model=LinearRegression()\n",
    "l_model.fit(x_train,y_train)\n",
    "l_model_pred=l_model.predict(x_test)\n",
    "l_model_xpred=l_model.predict(x_train)"
   ]
  },
  {
   "cell_type": "code",
   "execution_count": 29,
   "metadata": {},
   "outputs": [],
   "source": [
    "test_residual_error=y_test-l_model_pred"
   ]
  },
  {
   "cell_type": "code",
   "execution_count": 30,
   "metadata": {},
   "outputs": [
    {
     "data": {
      "image/png": "[encoded data removed]",
      "text/plain": [
       "<Figure size 1200x800 with 1 Axes>"
      ]
     },
     "metadata": {},
     "output_type": "display_data"
    }
   ],
   "source": [
    "plt.figure(figsize=(12,8),dpi=100)\n",
    "sns.scatterplot(x=y_test,y=test_residual_error)\n",
    "plt.axhline(y=0)\n",
    "plt.xlabel('Y TEST')\n",
    "plt.ylabel('TEST RESIDUAL')\n",
    "plt.show()"
   ]
  },
  {
   "cell_type": "code",
   "execution_count": 31,
   "metadata": {},
   "outputs": [
    {
     "data": {
      "text/plain": [
       "3323783241102145.0"
      ]
     },
     "execution_count": 31,
     "metadata": {},
     "output_type": "execute_result"
    }
   ],
   "source": [
    "from sklearn.metrics import mean_squared_error\n",
    "rmse=np.sqrt(mean_squared_error(y_test,l_model_pred))\n",
    "rmse"
   ]
  },
  {
   "cell_type": "code",
   "execution_count": 32,
   "metadata": {},
   "outputs": [
    {
     "name": "stdout",
     "output_type": "stream",
     "text": [
      "Fitting 10 folds for each of 24 candidates, totalling 240 fits\n"
     ]
    },
    {
     "data": {
      "text/plain": [
       "array([138125.80036975, 402980.94104558, 206672.01484792, 204090.76314044,\n",
       "       136193.58682321, 182065.82559126,  89595.89201698, 159089.60800709,\n",
       "       124954.76157519, 189013.47856652, 126962.95763071, 234517.45398209,\n",
       "       178593.11752656, 334139.94193238, 147847.61460144, 161625.74817843,\n",
       "       111381.46061878, 235239.70251448, 193298.68455169, 144826.94024982,\n",
       "       130168.65182255, 154933.14396919, 135963.27669559, 239273.33875165,\n",
       "       156702.85460132, 256106.42240542, 158736.09642798, 162743.41785481,\n",
       "       147595.69669726, 187008.36849478, 258185.6095058 ,  45433.44356891,\n",
       "       167244.98929739, 125450.55551106, 237727.49240392, 115672.36257157,\n",
       "       232037.07425574, 156248.54710107, 163329.57772999, 235599.6334383 ,\n",
       "       135474.6269575 , 264950.23484345, 144961.91885281, 120704.61951779,\n",
       "       222889.76839753, 196469.21740991,  72251.08408978, 169718.86420534,\n",
       "        70540.25738376, 114713.45807392, 210468.30755206, 308128.39690434,\n",
       "       239990.66656963, 125449.10566221, 260808.48563791, 129148.04989606,\n",
       "       222161.96778663, 147892.97302763, 225654.92251198, 120455.9761907 ,\n",
       "       201086.31649324, 213945.56798299, 131500.45282319, 173055.24809768,\n",
       "       128386.19768395, 257887.0433174 , 115629.3100993 , 194236.96390142,\n",
       "       227501.91753444,  95992.68246802, 199586.1928819 , 237610.69880174,\n",
       "       109155.46187695, 180821.33514308, 194478.76857326, 429333.52034583,\n",
       "       131114.12245817, 203100.75016532, 154414.92943262, 191698.67084195,\n",
       "       170347.13940972, 130671.08066232, 228486.53902589, 121967.40975661,\n",
       "        91036.45087804, 175634.82994265, 124540.69744184, 128337.63865777,\n",
       "       220754.42277454,  93608.99222686, 184068.90356369, 185532.96355722,\n",
       "       101672.02362841, 334252.10488152, 173590.67808004, 186560.2141569 ,\n",
       "       155804.19083692, 114747.23620418, 130097.17143718, 255105.47081106,\n",
       "       143769.77662178, 231037.16493175, 138752.16857225, 120927.4638905 ,\n",
       "       323315.08448991, 139779.92485901, 207828.09113908, 223860.61516143,\n",
       "        87103.33529998, 183702.28947883, 251356.03080563, 217450.38060983,\n",
       "       165407.24508067, 215651.62118832, 160610.24976773, 253128.87041434,\n",
       "       133317.9868517 , 260341.58145545, 103575.10613069, 105279.93872034,\n",
       "       198868.80964382, 123463.79438978, 196803.70780928, 277790.88405822,\n",
       "        98292.75767384, 148187.83364128, 130989.56725185, 110990.07834633,\n",
       "       189464.52633815, 175673.25229684, 367182.87324843, 145195.21641405,\n",
       "       141793.88172835, 131518.99532852, 136789.88543903, 166263.5258423 ,\n",
       "       200898.6605779 , 285289.24194147, 112960.0477913 , 214921.72614702,\n",
       "       238123.99041182, 234794.07128926, 221369.18289494, 126451.36118263,\n",
       "       185911.37699425, 154841.63304497, 149231.03790579, 316044.66878745,\n",
       "       283001.44708028, 131500.64612788, 218401.49989217, 103620.23095722,\n",
       "       133175.87065111,  61195.24231494, 166610.25711878, 283641.46795554,\n",
       "       118970.45618341, 156694.91287604, 133414.9537407 , 173781.53013606,\n",
       "       205872.21054008, 210643.4513563 , 171171.0755632 , 146204.42095804,\n",
       "       263061.41883742, 146488.19202749,  81966.00707955,  94727.72881778,\n",
       "       148007.98735714, 188854.17276165, 366431.49000743,  66844.97503857,\n",
       "       128221.27197389, 335383.07594832, 160035.09203108, 132138.28313292,\n",
       "        28416.3237859 , 128290.31271708,  64187.15951484,  94801.94591129,\n",
       "       201267.42567195, 221639.70037356, 362696.99944129, 277802.59773214,\n",
       "       216000.46366062, 169293.9676523 , 131769.42079483,  42889.3293207 ,\n",
       "       138438.02140726, 155950.14898926, 222854.06382511, 163864.59775229,\n",
       "       335263.808823  , 300443.8294608 , 150700.14888899, 146056.64029784,\n",
       "        89605.22464207, 308520.08204039, 206098.6584584 , 311751.86581569,\n",
       "       195448.70467422, 109180.16657112, 138274.4181281 , 120072.25744136,\n",
       "       303098.59828304, 349371.1332855 ,  75059.76431836,  94949.4651245 ,\n",
       "       245525.35937688, 276414.15276786, 185531.77265553, 121544.83531723,\n",
       "       119186.51586017, 227188.81325529, 153165.26536304, 230968.65555068,\n",
       "       222142.91055624, 239632.32309938, 124301.77518212, 164209.50357464,\n",
       "       165408.56336958,  77074.45707472, 192944.52580658, 139738.86612847,\n",
       "       199264.19558   , 120435.81143347, 222534.394203  ,  70354.79559587,\n",
       "       370434.21317725, 172033.81064769, 187734.25493567, 339687.83459216,\n",
       "       273737.30101689, 249568.83773816, 132229.47085834, 163566.90200643,\n",
       "       306486.34871702, 240099.30921433, 245390.48679776, 122753.70556886,\n",
       "       254227.81175904, 192183.2779984 , 157431.34418958, 419427.85287433,\n",
       "       302369.75955369, 208143.98024622, 286313.7592125 , 244028.99891125,\n",
       "       132272.48566149, 129769.54091057, 199339.63308054,  91133.43352717,\n",
       "       176708.49396741, 217762.1367115 , 163778.39519505, 233429.89768088,\n",
       "       182851.38069611, 166140.29023066, 219557.24639602, 165476.35369695,\n",
       "        92554.40018867, 264332.02257274, 206182.2385513 , 237727.7128293 ,\n",
       "       190850.36292991, 193337.65879118, 191996.85285894, 137374.16617033,\n",
       "       175870.9143558 , 246657.82956332, 188005.73701527, 113946.06732672,\n",
       "       308498.37877636, 277668.21799002, 201746.20057917, 224085.06439963,\n",
       "        87983.07676697, 302530.80801574, 130914.37358061, 395330.4539042 ,\n",
       "       145322.39296385, 115978.8532995 , 289582.2181199 , 234061.230602  ,\n",
       "       222464.41658701, 112586.62092787, 112595.41272121, 200527.1440336 ,\n",
       "       122059.89312001, 129020.12933479, 158706.80966394, 105109.74968083,\n",
       "       162325.28636484, 136691.20682501, 133442.69595869, 206531.76111747,\n",
       "       297874.82928674,  82038.12383907, 211391.64589334, 206305.44426968,\n",
       "       191987.62817908, 104761.87167274, 197428.39901752,  91059.57649819,\n",
       "       121947.44946266, 206019.06756468, 227840.89677017, 260025.3697312 ,\n",
       "       157769.89779727, 150453.70835599, 135741.99413495, 221419.03367873,\n",
       "       166246.80165629, 328652.10497716, 173497.67855875, 101083.12444612,\n",
       "       246571.50832917, 403103.38264327,  98721.03173805, 247799.4859317 ,\n",
       "       335895.3910725 , 141108.36171148, 129538.74408865, 219767.15465548,\n",
       "        97736.43971442, 207184.82409329, 341698.35662003,  58734.54400107,\n",
       "       156085.33102716, 180995.37186399, 253762.56637072, 145671.28097581,\n",
       "       131903.62389779, 318010.98494984, 223029.28230028, 186199.88520505,\n",
       "       182233.52901648,  78906.38380483, 151282.55451468,  61609.46631283,\n",
       "       246488.00415236,  99587.99054205, 185135.14746938, 141368.40944715,\n",
       "       370959.86129734, 190992.73498342, 114422.00207694, 287077.85669776,\n",
       "       114599.77143551,  84902.73650876, 141190.92892371, 217408.5778159 ,\n",
       "       117294.30267732, 163941.13969901, 159047.26599317, 127260.45764736,\n",
       "       264020.22932543, 246513.56122244, 136643.42308979, 304413.09179475,\n",
       "       139789.97693516, 205624.67422975, 140448.70095063, 159846.6121564 ,\n",
       "       332881.29332579, 105040.28631852, 139134.42083044, 337043.28376853,\n",
       "       330976.25121348, 248691.6263879 , 139187.16055707, 140189.51407628,\n",
       "       187648.62059602, 162013.26454572, 359747.29750448, 118395.98597442,\n",
       "       135852.63457956, 138855.85222157, 191165.79012988, 229255.37247953,\n",
       "       116162.00155699, 153389.71609437, 272050.43717733, 400992.76120963,\n",
       "       154980.28584518, 255545.5161264 , 210873.46543372, 179847.34528973,\n",
       "       160647.73230586, 151275.77023917, 170621.65591554,  92682.15145687,\n",
       "       208982.34323736,  69824.15862052, 190504.30847465, 129486.50990952,\n",
       "       176739.39958791, 169203.91562517, 134151.52947761, 150266.42925361,\n",
       "       189863.55221662, 249303.44697272, 100618.79761045, 172353.34385387,\n",
       "       144568.59463832, 207041.44508608, 130658.77499556, 132192.80855788,\n",
       "       129072.60102054, 301068.3401195 , 146039.32605943, 158812.79034473,\n",
       "       164918.67322931,  41620.93275772, 192253.02839524, 273228.13424597,\n",
       "       225158.0653826 ,  94231.03734889, 193963.84193631, 199476.00101428,\n",
       "       129984.22734768, 147579.32899404, 184189.48068303, 145145.48974803,\n",
       "       189583.14145612, 185558.81745208, 174247.49718967, 286175.19389398,\n",
       "       204331.86290499,  95199.04877191, 143405.66219901, 117257.70490065,\n",
       "       165087.41124056, 130683.01930524, 128475.13003319, 130689.03684792,\n",
       "       120470.17508121, 157431.64894445, 263119.21320077, 160305.60018562,\n",
       "       173475.36041035, 336143.46970599, 148121.76186564, 127173.83353621,\n",
       "       110248.61574905, 339758.45498453, 195014.4397802 , 172689.62651876,\n",
       "       144099.21584633, 253120.84372372, 166337.61443223,  89470.22188301,\n",
       "       162875.64659008,  98359.65693103, 181183.21425147,  89240.60691311,\n",
       "       216288.79705095, 320781.79602948, 373494.20313777, 112264.18531885,\n",
       "       221225.23851238, 145637.03573804, 285163.29114126, 251037.61753719,\n",
       "       212300.3271062 , 134887.48513712, 186860.97016028, 187890.91519391,\n",
       "       203451.27561744, 126315.00415459, 150402.37254527, 187028.47431599,\n",
       "       145822.2465737 , 154488.80749244, 197935.52161493, 172469.1014853 ,\n",
       "        84835.26165072, 158059.06618307, 280480.86477057, 253315.79246187,\n",
       "       188344.73025759, 181068.7943073 , 147901.15679952, 128848.46300133,\n",
       "       177368.83215826, 142551.99232572, 160719.40926837, 139949.09126864,\n",
       "       133111.1237127 , 131661.5347722 , 142895.44862091, 451439.44240895,\n",
       "       141510.124302  , 124022.16026845, 231301.48533841, 179370.85121169,\n",
       "       119633.05279509, 252078.21444935, 112840.18898536,  67472.28876982,\n",
       "       117523.03095184, 123101.60145943, 300161.04539993, 175030.75644571,\n",
       "       109963.7898582 , 195693.3930298 , 148336.97520756, 125975.69845803,\n",
       "       158063.5762754 , 117169.32469105, 188302.70586234,  84497.32210983,\n",
       "       156752.21695125, 227789.6367911 , 181684.92637524, 201191.53793243,\n",
       "       124740.14020872, 282835.91142493, 190956.90899274, 250388.68779803,\n",
       "       124847.16605477,  83076.39191266, 160132.56626256, 267876.85443991,\n",
       "       231772.06598014, 132907.31400519, 143122.04703319, 148627.07657595,\n",
       "       183346.09980775, 170518.72680052, 158178.76379358, 137576.56699399,\n",
       "       133996.33588557, 162859.67090734, 145655.01828234, 102142.63449589,\n",
       "       167423.87644394, 188218.80694273, 397922.13017459, 141603.241491  ,\n",
       "       146035.91900569, 224972.31168497, 358438.33484251, 155359.70699275,\n",
       "       265720.05969779, 105458.81901631, 346492.51669328, 124210.9699448 ,\n",
       "       152285.9854855 , 251212.30373908, 153084.535489  , 186303.41807239,\n",
       "       325381.23165549, 161096.67021301,  78973.57580548, 146855.42891685,\n",
       "       188958.85646293, 259262.83983103, 100258.20685022, 181215.29476421,\n",
       "       128510.50701778, 111964.64979724, 163849.15872537, 286623.63618612,\n",
       "       174489.68553925, 133510.49810337, 157165.11574059, 204825.55707219,\n",
       "       145347.83716144, 176608.18311558, 120124.3772563 , 115708.43911903,\n",
       "       269195.33929928, 430807.59321669, 203829.82370539, 170432.00744892,\n",
       "       239150.79814507, 142761.88301408, 227899.66774276, 126092.43878533,\n",
       "       122326.58111168, 113056.85647202, 109287.26903398, 233807.94963856,\n",
       "       362229.01311731, 174873.37127059, 241468.9376968 , 112079.52286853,\n",
       "       272368.03715894, 125804.05178675, 206043.22363628, 236013.12928426,\n",
       "       189591.08153161, 211251.40190254, 109548.79293566, 194825.21497969,\n",
       "       205303.38600671, 193053.04943981, 156613.64424165, 208072.12501413,\n",
       "       151469.24468929, 146540.06828064, 174500.62964863, 330176.55589018,\n",
       "       258124.68081316, 138468.83272796, 135682.75604131, 228623.57217448,\n",
       "       122977.98420438, 127222.00483137, 126922.50738881, 182803.80364277,\n",
       "       309921.15104446, 183865.30478228, 268500.12389617, 122327.10907574,\n",
       "       209099.77919616, 176618.51027487, 137394.90125184, 158503.72816977,\n",
       "        38590.23081274, 231227.66121358, 151116.14673652, 141741.47750087,\n",
       "       219847.82081934, 238865.94808767, 348443.76940783, 128986.63300325,\n",
       "       216265.81866512, 101276.82885481, 234139.84021134, 137064.80265694,\n",
       "       121644.07036732, 152480.60768968, 342169.15106547, 324701.87523343,\n",
       "       172693.95524745, 217639.53004526, 111620.34363012, 151886.34629437,\n",
       "       188730.96790224, 137979.27474221, 126278.89006398, 170050.80345621,\n",
       "       215994.49376057, 186164.14749471,  96863.62758319, 151978.85054743,\n",
       "       237836.67312054, 176628.57512659, 312248.58055645, 165506.70230071,\n",
       "       195100.41645688, 207334.07315718, 137317.82244491, 379935.76969085,\n",
       "       329051.07943942, 144528.01021646, 377252.61248486, 206494.05007275,\n",
       "       153395.18353168, 124727.05021716, 129043.27842742, 232375.61168974,\n",
       "       143939.09461154, 319862.77467675, 154966.68537536, 143127.62769834,\n",
       "       237915.73629355, 266130.65341477, 131077.18411122,  89472.12099193,\n",
       "       127936.68806339, 312653.30813842, 138526.55710626, 108386.49085269,\n",
       "       206554.36670258, 117423.30562086, 193778.85400293, 183178.10572244,\n",
       "       328929.8243589 , 235687.18036515, 123820.80140788, 155600.1992631 ,\n",
       "       105081.89163249, 259938.77689518, 280840.42315562, 196405.09703613,\n",
       "       269371.99900788, 244591.13031947, 292260.74581514, 227700.23354586,\n",
       "       264937.61128507, 100572.92389571, 112965.35508045, 106901.70569555,\n",
       "       155078.38554378, 298727.62609176, 120390.72094189, 115501.20660987,\n",
       "       174367.43118121, 208861.78742976,  83891.14729891, 155940.05311146,\n",
       "       170046.1494529 , 144929.19288444, 192538.42303297, 172880.20076561,\n",
       "       146155.15578701, 114424.15998866, 116999.90389084, 239464.89556517,\n",
       "       103967.42970382,  94962.74990037, 212921.72718826, 151135.44380518,\n",
       "       150810.07101178, 118329.01129694, 101430.29750045,  83880.75176471,\n",
       "       320103.19865264, 247025.77655848, 197993.32249269, 227425.49951585,\n",
       "       314587.55188813, 136403.63879384, 353207.82749914, 191894.74138598,\n",
       "       142417.29041542, 187292.98182895, 126530.8530976 , 227734.48719094,\n",
       "       191766.46702571, 161977.45582413, 154522.51706047, 172302.17912455,\n",
       "       177358.24524896,  55857.29744637, 147497.49197592, 187644.4115934 ,\n",
       "        93841.22622665, 123086.53528592, 165289.33725323, 144670.30476635,\n",
       "       202503.11559555, 207149.42762221, 179786.92101879, 157481.00033723,\n",
       "       133882.43598611, 291688.62206284, 246129.81648971, 204811.38456176,\n",
       "       273520.18210441, 134420.78553657, 225204.52903566, 169649.80732315,\n",
       "       209610.0003911 , 309337.12143412, 182173.74970495, 148348.37157108,\n",
       "       160881.80995928, 177597.79941241, 144086.74256439, 168973.97052105,\n",
       "       300955.37199349, 294823.0002694 , 234236.08165581, 232780.46473138,\n",
       "       125748.44118898, 272829.13690105, 314713.57692856, 317933.11527146,\n",
       "       212976.98006879, 139910.89866107, 178779.45855736, 146904.17105969,\n",
       "       312360.75249138, 140534.18985944, 191033.76789068, 143990.62563378,\n",
       "       221985.3695096 , 211662.28545629, 162578.72253253, 266029.33201903,\n",
       "       277588.08261921, 188378.30552376, 231860.52725271, 148034.10529723,\n",
       "       113602.90436814,  75083.23380095, 167763.40098397, 207643.00778276,\n",
       "       234140.57540728, 149012.33887112, 104926.65108464, 131383.79225331,\n",
       "        72050.05938409, 357506.77987811, 164441.0702933 , 266084.15103153,\n",
       "       208782.14038151, 139073.0407907 , 153011.55012326, 115143.14041271,\n",
       "       109457.78114011, 287610.1975099 , 219382.46352012, 123028.78372513,\n",
       "       189346.4593548 , 305780.34679075, 222498.53166154, 194150.61232103,\n",
       "       104419.90866202, 167873.35276733, 243105.98481282, 231946.41970395,\n",
       "       147974.41821482, 228302.15800211,  97165.8279105 , 163326.12041954,\n",
       "       268185.73628541,  83856.15129962, 195384.41906859, 340437.70928615,\n",
       "       111977.66774637, 131472.97507491, 221880.78442298, 142502.78478452,\n",
       "       205116.53026067, 115791.78688288,  77302.96634176, 216304.47770502,\n",
       "       206432.32822632, 291773.22373274, 215190.68309126, 142942.08869783,\n",
       "       147979.92178067, 141732.4926811 , 243716.29778396, 185531.35130174,\n",
       "       131534.13907185, 116055.56196253, 232860.84838414, 202088.09679208,\n",
       "       135950.48086617, 160833.92986633, 139534.01405094, 159108.56285142,\n",
       "       167505.36973247, 241848.82412263, 175234.36855888, 196155.95091345,\n",
       "       103663.64665186, 203950.89478466,  72534.38595209, 215862.22417274,\n",
       "       177846.53698258, 245946.2380008 , 243526.68357382, 139277.71061104,\n",
       "       205199.16132288, 115695.00194745, 236903.46414203, 218484.13124926,\n",
       "       134845.09131792, 319454.68911361, 120669.51293834, 175405.18985163,\n",
       "       190195.45257861, 166241.3852822 , 232160.28621947, 214317.14444911,\n",
       "       173777.78660784, 332319.02175789, 158144.03056144, 237519.6657737 ,\n",
       "       197288.35912644, 110673.32766947])"
      ]
     },
     "execution_count": 32,
     "metadata": {},
     "output_type": "execute_result"
    }
   ],
   "source": [
    "from sklearn.linear_model import ElasticNetCV\n",
    "from sklearn.model_selection import GridSearchCV\n",
    "from sklearn.preprocessing import StandardScaler\n",
    "enc=ElasticNetCV()\n",
    "sc=StandardScaler()\n",
    "x_train=sc.fit_transform(x_train)\n",
    "x_test=sc.transform(x_test)\n",
    "p_m={'l1_ratio':[.1,.2,.89,.45,.99,.98],'n_alphas':[1,10,100,100]}\n",
    "gn=GridSearchCV(estimator=enc,param_grid=p_m,scoring='neg_mean_squared_error',cv=10,verbose=1)\n",
    "gn.fit(x_train,y_train)\n",
    "g_pred=gn.predict(x_test)\n",
    "g_pred"
   ]
  },
  {
   "cell_type": "code",
   "execution_count": 33,
   "metadata": {},
   "outputs": [],
   "source": [
    "fen=ElasticNetCV(l1_ratio=0.99,alphas=[10])\n",
    "fen.fit(x_train,y_train)\n",
    "fen_pred=fen.predict(x_test)"
   ]
  },
  {
   "cell_type": "code",
   "execution_count": 34,
   "metadata": {},
   "outputs": [
    {
     "data": {
      "text/plain": [
       "21313.0100110354"
      ]
     },
     "execution_count": 34,
     "metadata": {},
     "output_type": "execute_result"
    }
   ],
   "source": [
    "rmse=np.sqrt(mean_squared_error(y_test,fen_pred))\n",
    "rmse"
   ]
  },
  {
   "cell_type": "code",
   "execution_count": 35,
   "metadata": {},
   "outputs": [],
   "source": [
    "final_model=ElasticNetCV(l1_ratio=0.99,alphas=[10])\n",
    "final_model.fit(x,y)\n",
    "final_pred=final_model.predict(x)"
   ]
  },
  {
   "cell_type": "code",
   "execution_count": 36,
   "metadata": {},
   "outputs": [
    {
     "data": {
      "text/plain": [
       "23482.605969092187"
      ]
     },
     "execution_count": 36,
     "metadata": {},
     "output_type": "execute_result"
    }
   ],
   "source": [
    "from sklearn.metrics import mean_squared_error\n",
    "rmse=np.sqrt(mean_squared_error(y,final_pred))\n",
    "rmse"
   ]
  },
  {
   "cell_type": "code",
   "execution_count": 37,
   "metadata": {},
   "outputs": [
    {
     "data": {
      "text/plain": [
       "array([ 1.04810061e+02,  5.22230981e-01,  1.11172612e+04,  5.82014805e+03,\n",
       "        4.28933244e+02,  1.59811337e+02,  4.21227147e+01,  3.88339671e+01,\n",
       "        2.66840889e+01,  1.54760498e+01,  1.04967821e+01,  4.99105824e+01,\n",
       "        5.67671582e+01,  1.90466029e+01,  1.00999222e+01, -0.00000000e+00,\n",
       "       -1.12322985e+03, -7.94420677e+02,  3.98504414e+02, -5.94246251e+03,\n",
       "       -4.70012846e+03, -3.85977376e+01,  2.43857144e+03, -3.54166174e+00,\n",
       "        1.12825800e+03,  2.71822461e+01,  1.41850924e+01,  8.91554610e+00,\n",
       "        1.11588548e+01, -6.04968936e+00,  4.50842195e+01,  3.77956118e+01,\n",
       "       -3.92932703e-01,  4.01677597e+00, -5.49626823e+02, -5.10758939e+01,\n",
       "       -2.30251825e+03, -0.00000000e+00, -1.69486167e+03,  2.15001199e+03,\n",
       "        2.71099553e+03,  0.00000000e+00,  5.94232816e+02,  7.73214465e+02,\n",
       "        1.47861374e+03,  1.29684381e+03, -1.97084989e+02,  0.00000000e+00,\n",
       "        4.68836236e+02, -3.25341610e+03, -1.42625270e+02,  6.33563544e+02,\n",
       "        0.00000000e+00, -3.10358868e+02,  2.35384667e+03, -2.38947605e+03,\n",
       "        5.12233099e+02,  5.46257910e+02, -2.84681857e+02, -1.09571311e+03,\n",
       "        3.40842843e+03, -1.26519704e+03, -1.06390889e+03, -2.46773135e+01,\n",
       "       -0.00000000e+00,  2.30380930e+03, -7.46275310e+02, -1.70180531e+02,\n",
       "        8.45218834e+02,  9.60712058e+02, -9.10838820e+02,  0.00000000e+00,\n",
       "       -2.65479391e+02,  2.17325968e+03, -5.66646488e+02, -2.24257419e+03,\n",
       "        2.91323088e+03, -9.31349784e+02, -1.71076630e+03, -0.00000000e+00,\n",
       "        6.21326774e+02,  1.86144498e+02, -0.00000000e+00, -1.65902483e+02,\n",
       "       -2.43375118e+03, -2.08436461e+03,  3.00676187e+02, -3.24913218e+03,\n",
       "        3.15582801e+03,  4.91943677e+03, -1.31283584e+03, -5.07984951e+02,\n",
       "        6.08483654e+02, -1.69934825e+03,  9.44385962e+02,  4.02269910e+03,\n",
       "       -1.20526157e+03, -5.48045565e+02, -1.16598034e+03,  3.45930440e+03,\n",
       "        4.89623756e+02,  1.04867394e+03, -5.93748107e+02, -2.79990524e+02,\n",
       "       -2.75503502e+01, -2.29651608e+02, -2.48367333e+02, -2.95275646e+02,\n",
       "        8.80205372e+02,  0.00000000e+00, -1.62716295e+01, -0.00000000e+00,\n",
       "        0.00000000e+00, -1.67991602e+03, -3.25341535e+03, -2.38239416e+03,\n",
       "       -2.01324129e+03,  4.55496581e+02,  1.43447811e+03, -5.35579898e+00,\n",
       "       -4.46667588e+02, -1.08072295e+03,  0.00000000e+00,  0.00000000e+00,\n",
       "       -8.18074094e+02,  1.46596857e+01,  2.12815107e+03, -5.45506876e+02,\n",
       "       -2.72197201e+02,  2.38831715e-01,  0.00000000e+00, -0.00000000e+00,\n",
       "       -4.92621843e+02, -4.57895264e+02,  1.10335960e+03,  0.00000000e+00,\n",
       "       -6.98847895e+01,  2.54316676e+03, -0.00000000e+00,  1.88182823e+03,\n",
       "       -1.47514137e+03, -0.00000000e+00,  2.87897683e+02, -2.43825773e+03,\n",
       "        3.38698324e+01, -5.61718597e+01,  3.21340463e+02, -3.87271292e+02,\n",
       "       -7.96233273e+02,  0.00000000e+00,  0.00000000e+00,  0.00000000e+00,\n",
       "        3.10153656e+02, -0.00000000e+00,  1.94423279e+03, -1.19277276e+03,\n",
       "        3.61036032e+02,  2.86775783e+02,  0.00000000e+00, -2.74581539e+03,\n",
       "        3.38698335e+01,  0.00000000e+00,  3.08788568e+02,  0.00000000e+00,\n",
       "        7.36368555e+00, -8.80507910e+01, -4.36477905e+03, -1.78831324e+02,\n",
       "        3.81948148e+03,  2.01836624e+03, -2.19353035e+01, -4.18445454e+03,\n",
       "       -4.84350272e+03, -5.95151686e+02, -1.05113740e+02, -6.74183595e+01,\n",
       "        7.61297870e+02, -3.40666655e+03,  1.93640536e+03,  3.69729218e+02,\n",
       "        1.43280868e+02, -3.29621763e+02,  1.53800395e+02, -9.24454535e+03,\n",
       "        1.25994888e+03,  0.00000000e+00, -3.86290500e+03, -4.83465303e+02,\n",
       "        1.40111096e+02,  1.25994897e+03, -0.00000000e+00, -8.62592896e+02,\n",
       "        5.22642422e+03, -2.77023471e+03, -4.03501715e+03,  1.25927349e+03,\n",
       "       -4.14740072e+02,  2.23968314e+03, -1.27067113e+03,  1.25994842e+03,\n",
       "       -1.58896767e+03,  1.71185816e+03, -4.75400421e+02,  8.55051171e+02,\n",
       "       -1.30726536e+03,  1.14327197e+03, -1.25027195e+03,  0.00000000e+00,\n",
       "        6.07312542e+02, -4.81256911e+02, -1.10664199e+02, -1.54703488e+02,\n",
       "        1.67730634e+02, -5.60460273e+02, -6.68447582e+02, -3.89303556e+01,\n",
       "       -2.69785404e+03, -5.54711799e+02,  9.40044365e+01, -0.00000000e+00,\n",
       "       -0.00000000e+00, -9.36190257e+02, -3.00822749e+02, -6.78255082e+03,\n",
       "        0.00000000e+00, -5.04932997e+03, -1.21605239e+02, -8.96889087e+02,\n",
       "       -5.42045415e+02, -8.28277882e+02, -5.96035160e+01, -3.26667859e+02,\n",
       "        4.71653592e+03, -7.48347398e+02,  1.67979890e+03, -2.36440957e+01,\n",
       "       -0.00000000e+00, -2.46415236e+03, -1.10387826e+03, -4.79559637e+02,\n",
       "        2.12347446e+03, -4.06437310e+02,  9.97766353e+02,  1.60170726e+01,\n",
       "        0.00000000e+00, -3.14591143e+03, -4.64329641e+02,  7.19048137e+02,\n",
       "        5.15819722e+02,  0.00000000e+00, -0.00000000e+00, -1.75923066e+03,\n",
       "       -1.38108487e+02,  0.00000000e+00,  0.00000000e+00, -7.66857185e+01,\n",
       "        1.63511915e+02, -1.93890724e+02, -2.91160869e+02,  1.52575228e+02,\n",
       "        2.46179917e+02, -1.25083530e+02, -0.00000000e+00,  5.62128272e+01,\n",
       "        4.75004983e+03, -0.00000000e+00, -0.00000000e+00, -2.09342900e+03,\n",
       "        2.73470400e+02, -0.00000000e+00, -4.88479691e+02,  1.23582983e+03,\n",
       "        4.60724572e+03])"
      ]
     },
     "execution_count": 37,
     "metadata": {},
     "output_type": "execute_result"
    }
   ],
   "source": [
    "final_model.coef_"
   ]
  },
  {
   "cell_type": "code",
   "execution_count": 38,
   "metadata": {},
   "outputs": [
    {
     "data": {
      "text/plain": [
       "['Final_Housing_model']"
      ]
     },
     "execution_count": 38,
     "metadata": {},
     "output_type": "execute_result"
    }
   ],
   "source": [
    "from joblib import load,dump\n",
    "dump(final_model,'Final_Housing_model')"
   ]
  }
 ],
 "metadata": {
  "kernelspec": {
   "display_name": "base",
   "language": "python",
   "name": "python3"
  },
  "language_info": {
   "codemirror_mode": {
    "name": "ipython",
    "version": 3
   },
   "file_extension": ".py",
   "mimetype": "text/x-python",
   "name": "python",
   "nbconvert_exporter": "python",
   "pygments_lexer": "ipython3",
   "version": "3.11.5"
  }
 },
 "nbformat": 4,
 "nbformat_minor": 2
}
