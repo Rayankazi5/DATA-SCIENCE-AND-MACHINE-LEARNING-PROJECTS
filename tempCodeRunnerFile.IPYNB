final_model=ElasticNetCV(l1_ratio=0.99,alphas=[10])
final_model.fit(x,y)
final_pred=final_model.predict(x)